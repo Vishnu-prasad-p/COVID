{
 "cells": [
  {
   "cell_type": "code",
   "execution_count": 1,
   "metadata": {},
   "outputs": [],
   "source": [
    "from Get_KA_COVID_Data import get_KA_covid_data\n",
    "import numpy as np\n",
    "import matplotlib.pyplot as plt\n",
    "import scipy.optimize as optim\n",
    "import pandas as pd\n",
    "\n",
    "def logistic_growth(t, a, b, c):\n",
    "    return c / (1 + a * np.exp(-b*t))\n",
    "\n",
    "class logoisticGrowthPredictor:\n",
    "    def Predict_logistic_growth_confirmed(Number_days_tobe_predicted = 15):\n",
    "        days = Number_days_tobe_predicted\n",
    "        data = get_KA_covid_data()\n",
    "        p0 = np.random.exponential(size=3)\n",
    "        bounds = (0,[100000., 3., 1000000000.])\n",
    "        (a,b,c),cov = optim.curve_fit(logistic_growth,data['timeStep'],data['Confirmed'],bounds=bounds,p0=p0)\n",
    "\n",
    "#         plt.figure(figsize=[20, 10])\n",
    "#         plt.scatter(data['timeStep'],data['Confirmed'],c='r',label=\"Data\")\n",
    "#         plt.plot(data['timeStep'],logistic_growth(data['timeStep'], a, b, c),label=\"Fixed Curve\")\n",
    "#         plt.plot((np.arange(len(data),len(data)+days)),logistic_growth(np.arange(len(data),len(data)+days), a, b, c),label=\"Prediction\")\n",
    "#         plt.legend()\n",
    "        return data['Date'],data['timeStep'],np.arange(len(data),len(data)+days),data['Confirmed'],logistic_growth(data['timeStep'], a, b, c),logistic_growth(np.arange(len(data),len(data)+days), a, b, c)"
   ]
  },
  {
   "cell_type": "code",
   "execution_count": 2,
   "metadata": {},
   "outputs": [],
   "source": [
    "dt,ts,pts,ad,cf,pd = logoisticGrowthPredictor.Predict_logistic_growth_confirmed()"
   ]
  },
  {
   "cell_type": "code",
   "execution_count": 3,
   "metadata": {},
   "outputs": [
    {
     "data": {
      "text/plain": [
       "(117, 117, 15)"
      ]
     },
     "execution_count": 3,
     "metadata": {},
     "output_type": "execute_result"
    }
   ],
   "source": [
    "len(dt),len(ts),len(pts)"
   ]
  },
  {
   "cell_type": "code",
   "execution_count": 4,
   "metadata": {},
   "outputs": [
    {
     "data": {
      "text/plain": [
       "str"
      ]
     },
     "execution_count": 4,
     "metadata": {},
     "output_type": "execute_result"
    }
   ],
   "source": [
    "type(dt[0])"
   ]
  },
  {
   "cell_type": "code",
   "execution_count": 10,
   "metadata": {},
   "outputs": [],
   "source": [
    "import pandas as pd\n",
    "dti = pd.date_range(dt[0], periods=len(ts)+len(pts), freq='D')"
   ]
  },
  {
   "cell_type": "code",
   "execution_count": 15,
   "metadata": {},
   "outputs": [
    {
     "data": {
      "text/plain": [
       "[Timestamp('2020-03-09 00:00:00', freq='D'),\n",
       " Timestamp('2020-03-10 00:00:00', freq='D'),\n",
       " Timestamp('2020-03-11 00:00:00', freq='D'),\n",
       " Timestamp('2020-03-12 00:00:00', freq='D'),\n",
       " Timestamp('2020-03-13 00:00:00', freq='D'),\n",
       " Timestamp('2020-03-14 00:00:00', freq='D'),\n",
       " Timestamp('2020-03-15 00:00:00', freq='D'),\n",
       " Timestamp('2020-03-16 00:00:00', freq='D'),\n",
       " Timestamp('2020-03-17 00:00:00', freq='D'),\n",
       " Timestamp('2020-03-18 00:00:00', freq='D'),\n",
       " Timestamp('2020-03-19 00:00:00', freq='D'),\n",
       " Timestamp('2020-03-20 00:00:00', freq='D'),\n",
       " Timestamp('2020-03-21 00:00:00', freq='D'),\n",
       " Timestamp('2020-03-22 00:00:00', freq='D'),\n",
       " Timestamp('2020-03-23 00:00:00', freq='D'),\n",
       " Timestamp('2020-03-24 00:00:00', freq='D'),\n",
       " Timestamp('2020-03-25 00:00:00', freq='D'),\n",
       " Timestamp('2020-03-26 00:00:00', freq='D'),\n",
       " Timestamp('2020-03-27 00:00:00', freq='D'),\n",
       " Timestamp('2020-03-28 00:00:00', freq='D'),\n",
       " Timestamp('2020-03-29 00:00:00', freq='D'),\n",
       " Timestamp('2020-03-30 00:00:00', freq='D'),\n",
       " Timestamp('2020-03-31 00:00:00', freq='D'),\n",
       " Timestamp('2020-04-01 00:00:00', freq='D'),\n",
       " Timestamp('2020-04-02 00:00:00', freq='D'),\n",
       " Timestamp('2020-04-03 00:00:00', freq='D'),\n",
       " Timestamp('2020-04-04 00:00:00', freq='D'),\n",
       " Timestamp('2020-04-05 00:00:00', freq='D'),\n",
       " Timestamp('2020-04-06 00:00:00', freq='D'),\n",
       " Timestamp('2020-04-07 00:00:00', freq='D'),\n",
       " Timestamp('2020-04-08 00:00:00', freq='D'),\n",
       " Timestamp('2020-04-09 00:00:00', freq='D'),\n",
       " Timestamp('2020-04-10 00:00:00', freq='D'),\n",
       " Timestamp('2020-04-11 00:00:00', freq='D'),\n",
       " Timestamp('2020-04-12 00:00:00', freq='D'),\n",
       " Timestamp('2020-04-13 00:00:00', freq='D'),\n",
       " Timestamp('2020-04-14 00:00:00', freq='D'),\n",
       " Timestamp('2020-04-15 00:00:00', freq='D'),\n",
       " Timestamp('2020-04-16 00:00:00', freq='D'),\n",
       " Timestamp('2020-04-17 00:00:00', freq='D'),\n",
       " Timestamp('2020-04-18 00:00:00', freq='D'),\n",
       " Timestamp('2020-04-19 00:00:00', freq='D'),\n",
       " Timestamp('2020-04-20 00:00:00', freq='D'),\n",
       " Timestamp('2020-04-21 00:00:00', freq='D'),\n",
       " Timestamp('2020-04-22 00:00:00', freq='D'),\n",
       " Timestamp('2020-04-23 00:00:00', freq='D'),\n",
       " Timestamp('2020-04-24 00:00:00', freq='D'),\n",
       " Timestamp('2020-04-25 00:00:00', freq='D'),\n",
       " Timestamp('2020-04-26 00:00:00', freq='D'),\n",
       " Timestamp('2020-04-27 00:00:00', freq='D'),\n",
       " Timestamp('2020-04-28 00:00:00', freq='D'),\n",
       " Timestamp('2020-04-29 00:00:00', freq='D'),\n",
       " Timestamp('2020-04-30 00:00:00', freq='D'),\n",
       " Timestamp('2020-05-01 00:00:00', freq='D'),\n",
       " Timestamp('2020-05-02 00:00:00', freq='D'),\n",
       " Timestamp('2020-05-03 00:00:00', freq='D'),\n",
       " Timestamp('2020-05-04 00:00:00', freq='D'),\n",
       " Timestamp('2020-05-05 00:00:00', freq='D'),\n",
       " Timestamp('2020-05-06 00:00:00', freq='D'),\n",
       " Timestamp('2020-05-07 00:00:00', freq='D'),\n",
       " Timestamp('2020-05-08 00:00:00', freq='D'),\n",
       " Timestamp('2020-05-09 00:00:00', freq='D'),\n",
       " Timestamp('2020-05-10 00:00:00', freq='D'),\n",
       " Timestamp('2020-05-11 00:00:00', freq='D'),\n",
       " Timestamp('2020-05-12 00:00:00', freq='D'),\n",
       " Timestamp('2020-05-13 00:00:00', freq='D'),\n",
       " Timestamp('2020-05-14 00:00:00', freq='D'),\n",
       " Timestamp('2020-05-15 00:00:00', freq='D'),\n",
       " Timestamp('2020-05-16 00:00:00', freq='D'),\n",
       " Timestamp('2020-05-17 00:00:00', freq='D'),\n",
       " Timestamp('2020-05-18 00:00:00', freq='D'),\n",
       " Timestamp('2020-05-19 00:00:00', freq='D'),\n",
       " Timestamp('2020-05-20 00:00:00', freq='D'),\n",
       " Timestamp('2020-05-21 00:00:00', freq='D'),\n",
       " Timestamp('2020-05-22 00:00:00', freq='D'),\n",
       " Timestamp('2020-05-23 00:00:00', freq='D'),\n",
       " Timestamp('2020-05-24 00:00:00', freq='D'),\n",
       " Timestamp('2020-05-25 00:00:00', freq='D'),\n",
       " Timestamp('2020-05-26 00:00:00', freq='D'),\n",
       " Timestamp('2020-05-27 00:00:00', freq='D'),\n",
       " Timestamp('2020-05-28 00:00:00', freq='D'),\n",
       " Timestamp('2020-05-29 00:00:00', freq='D'),\n",
       " Timestamp('2020-05-30 00:00:00', freq='D'),\n",
       " Timestamp('2020-05-31 00:00:00', freq='D'),\n",
       " Timestamp('2020-06-01 00:00:00', freq='D'),\n",
       " Timestamp('2020-06-02 00:00:00', freq='D'),\n",
       " Timestamp('2020-06-03 00:00:00', freq='D'),\n",
       " Timestamp('2020-06-04 00:00:00', freq='D'),\n",
       " Timestamp('2020-06-05 00:00:00', freq='D'),\n",
       " Timestamp('2020-06-06 00:00:00', freq='D'),\n",
       " Timestamp('2020-06-07 00:00:00', freq='D'),\n",
       " Timestamp('2020-06-08 00:00:00', freq='D'),\n",
       " Timestamp('2020-06-09 00:00:00', freq='D'),\n",
       " Timestamp('2020-06-10 00:00:00', freq='D'),\n",
       " Timestamp('2020-06-11 00:00:00', freq='D'),\n",
       " Timestamp('2020-06-12 00:00:00', freq='D'),\n",
       " Timestamp('2020-06-13 00:00:00', freq='D'),\n",
       " Timestamp('2020-06-14 00:00:00', freq='D'),\n",
       " Timestamp('2020-06-15 00:00:00', freq='D'),\n",
       " Timestamp('2020-06-16 00:00:00', freq='D'),\n",
       " Timestamp('2020-06-17 00:00:00', freq='D'),\n",
       " Timestamp('2020-06-18 00:00:00', freq='D'),\n",
       " Timestamp('2020-06-19 00:00:00', freq='D'),\n",
       " Timestamp('2020-06-20 00:00:00', freq='D'),\n",
       " Timestamp('2020-06-21 00:00:00', freq='D'),\n",
       " Timestamp('2020-06-22 00:00:00', freq='D'),\n",
       " Timestamp('2020-06-23 00:00:00', freq='D'),\n",
       " Timestamp('2020-06-24 00:00:00', freq='D'),\n",
       " Timestamp('2020-06-25 00:00:00', freq='D'),\n",
       " Timestamp('2020-06-26 00:00:00', freq='D'),\n",
       " Timestamp('2020-06-27 00:00:00', freq='D'),\n",
       " Timestamp('2020-06-28 00:00:00', freq='D'),\n",
       " Timestamp('2020-06-29 00:00:00', freq='D'),\n",
       " Timestamp('2020-06-30 00:00:00', freq='D'),\n",
       " Timestamp('2020-07-01 00:00:00', freq='D'),\n",
       " Timestamp('2020-07-02 00:00:00', freq='D'),\n",
       " Timestamp('2020-07-03 00:00:00', freq='D')]"
      ]
     },
     "execution_count": 15,
     "metadata": {},
     "output_type": "execute_result"
    }
   ],
   "source": []
  },
  {
   "cell_type": "code",
   "execution_count": 13,
   "metadata": {},
   "outputs": [
    {
     "data": {
      "text/plain": [
       "DatetimeIndex(['2020-07-04', '2020-07-05', '2020-07-06', '2020-07-07',\n",
       "               '2020-07-08', '2020-07-09', '2020-07-10', '2020-07-11',\n",
       "               '2020-07-12', '2020-07-13', '2020-07-14', '2020-07-15',\n",
       "               '2020-07-16', '2020-07-17', '2020-07-18'],\n",
       "              dtype='datetime64[ns]', freq='D')"
      ]
     },
     "execution_count": 13,
     "metadata": {},
     "output_type": "execute_result"
    }
   ],
   "source": [
    "dti[len(dt):len(ts)+len(pts)]"
   ]
  },
  {
   "cell_type": "code",
   "execution_count": 19,
   "metadata": {},
   "outputs": [
    {
     "data": {
      "text/plain": [
       "132"
      ]
     },
     "execution_count": 19,
     "metadata": {},
     "output_type": "execute_result"
    }
   ],
   "source": [
    "len(op[0])+15"
   ]
  },
  {
   "cell_type": "code",
   "execution_count": 21,
   "metadata": {},
   "outputs": [],
   "source": [
    "import pandas as pd"
   ]
  },
  {
   "cell_type": "code",
   "execution_count": 26,
   "metadata": {},
   "outputs": [],
   "source": [
    "dti = pd.date_range(op[1][0], periods=135, freq='D')"
   ]
  },
  {
   "cell_type": "code",
   "execution_count": 29,
   "metadata": {},
   "outputs": [
    {
     "data": {
      "text/plain": [
       "DatetimeIndex(['2020-03-09', '2020-03-10', '2020-03-11', '2020-03-12',\n",
       "               '2020-03-13', '2020-03-14', '2020-03-15', '2020-03-16',\n",
       "               '2020-03-17', '2020-03-18',\n",
       "               ...\n",
       "               '2020-06-23', '2020-06-24', '2020-06-25', '2020-06-26',\n",
       "               '2020-06-27', '2020-06-28', '2020-06-29', '2020-06-30',\n",
       "               '2020-07-01', '2020-07-02'],\n",
       "              dtype='datetime64[ns]', length=116, freq='D')"
      ]
     },
     "execution_count": 29,
     "metadata": {},
     "output_type": "execute_result"
    }
   ],
   "source": [
    "dti[0:len(op[0])-1]"
   ]
  },
  {
   "cell_type": "code",
   "execution_count": 16,
   "metadata": {},
   "outputs": [
    {
     "ename": "AttributeError",
     "evalue": "'DatetimeIndex' object has no attribute 'toList'",
     "output_type": "error",
     "traceback": [
      "\u001b[0;31m----------------------------------------------------\u001b[0m",
      "\u001b[0;31mAttributeError\u001b[0m     Traceback (most recent call last)",
      "\u001b[0;32m<ipython-input-16-d289a1914a08>\u001b[0m in \u001b[0;36m<module>\u001b[0;34m\u001b[0m\n\u001b[0;32m----> 1\u001b[0;31m \u001b[0mdti\u001b[0m\u001b[0;34m[\u001b[0m\u001b[0mlen\u001b[0m\u001b[0;34m(\u001b[0m\u001b[0mdt\u001b[0m\u001b[0;34m)\u001b[0m\u001b[0;34m:\u001b[0m\u001b[0mlen\u001b[0m\u001b[0;34m(\u001b[0m\u001b[0mts\u001b[0m\u001b[0;34m)\u001b[0m\u001b[0;34m+\u001b[0m\u001b[0mlen\u001b[0m\u001b[0;34m(\u001b[0m\u001b[0mpts\u001b[0m\u001b[0;34m)\u001b[0m\u001b[0;34m]\u001b[0m\u001b[0;34m.\u001b[0m\u001b[0mtoList\u001b[0m\u001b[0;34m(\u001b[0m\u001b[0;34m)\u001b[0m\u001b[0;34m\u001b[0m\u001b[0;34m\u001b[0m\u001b[0m\n\u001b[0m",
      "\u001b[0;31mAttributeError\u001b[0m: 'DatetimeIndex' object has no attribute 'toList'"
     ]
    }
   ],
   "source": [
    "dti[len(dt):len(ts)+len(pts)].toList()"
   ]
  },
  {
   "cell_type": "code",
   "execution_count": null,
   "metadata": {},
   "outputs": [],
   "source": []
  }
 ],
 "metadata": {
  "kernelspec": {
   "display_name": "Python 3",
   "language": "python",
   "name": "python3"
  },
  "language_info": {
   "codemirror_mode": {
    "name": "ipython",
    "version": 3
   },
   "file_extension": ".py",
   "mimetype": "text/x-python",
   "name": "python",
   "nbconvert_exporter": "python",
   "pygments_lexer": "ipython3",
   "version": "3.8.2"
  }
 },
 "nbformat": 4,
 "nbformat_minor": 4
}

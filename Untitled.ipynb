{
 "cells": [
  {
   "cell_type": "code",
   "execution_count": 1,
   "metadata": {},
   "outputs": [],
   "source": [
    "import requests\n",
    "import json\n",
    "import pandas as pd\n",
    "import numpy as np\n",
    "response = requests.get(\"https://api.covid19india.org/districts_daily.json\")\n",
    "data = json.loads(response.content)"
   ]
  },
  {
   "cell_type": "code",
   "execution_count": null,
   "metadata": {},
   "outputs": [],
   "source": [
    "Bagalkote"
   ]
  },
  {
   "cell_type": "code",
   "execution_count": 83,
   "metadata": {},
   "outputs": [],
   "source": [
    "def get_districtWise(district):\n",
    "    active = []\n",
    "    confirmed = []\n",
    "    deceased = []\n",
    "    recovered = []\n",
    "    date = []\n",
    "    response = requests.get(\"https://api.covid19india.org/districts_daily.json\")\n",
    "    data = json.loads(response.content)\n",
    "    for key,value in data[\"districtsDaily\"][\"Karnataka\"].items():\n",
    "        if key == district:\n",
    "            for itm in value:\n",
    "                active.append(itm['active'])\n",
    "                confirmed.append(itm['confirmed'])\n",
    "                deceased.append(itm['deceased'])\n",
    "                recovered.append(itm['recovered'])\n",
    "                date.append(itm['date'])\n",
    "    data_df = pd.DataFrame(zip(date ,confirmed ,active ,recovered ,deceased))\n",
    "    data_df['timeStep'] = np.arange(0,len(data_df))+1\n",
    "    data_df.columns = [\"Date\",\"Confirmed\",\"Active\",\"Recovered\",\"Deceased\",\"timeStep\"]\n",
    "    return data_df"
   ]
  },
  {
   "cell_type": "code",
   "execution_count": 56,
   "metadata": {},
   "outputs": [
    {
     "data": {
      "text/plain": [
       "0      21\n",
       "1      21\n",
       "2      21\n",
       "3      24\n",
       "4      24\n",
       "     ... \n",
       "70    188\n",
       "71    208\n",
       "72    218\n",
       "73    226\n",
       "74    226\n",
       "Name: Confirmed, Length: 75, dtype: int64"
      ]
     },
     "execution_count": 56,
     "metadata": {},
     "output_type": "execute_result"
    }
   ],
   "source": [
    "get_districtWise(\"Bagalkote\")['Confirmed']"
   ]
  },
  {
   "cell_type": "code",
   "execution_count": 86,
   "metadata": {},
   "outputs": [],
   "source": [
    " \n",
    "def logistic_growth(t, a, b, c):\n",
    "    return c / (1 + a * np.exp(-b*t))\n",
    "    \n",
    "def Predict_logistic_growth(data,Number_days_tobe_predicted = 15):\n",
    "    print(data.columns)\n",
    "    days = Number_days_tobe_predicted\n",
    "    p0 = np.random.exponential(size=3)\n",
    "    bounds = (0,[100000., 3., 1000000000.])\n",
    "    (a,b,c),cov = optim.curve_fit(logistic_growth,data['timeStep'],data['Confirmed'],bounds=bounds,p0=p0)\n",
    "    return data['Date'],data['timeStep'],np.arange(len(data),len(data)+days),data['Confirmed'],logistic_growth(data['timeStep'], a, b, c),logistic_growth(np.arange(len(data),len(data)+days), a, b, c)"
   ]
  },
  {
   "cell_type": "code",
   "execution_count": 87,
   "metadata": {},
   "outputs": [
    {
     "name": "stdout",
     "output_type": "stream",
     "text": [
      "Index(['Date', 'Confirmed', 'Active', 'Recovered', 'Deceased', 'timeStep'], dtype='object')\n"
     ]
    },
    {
     "data": {
      "text/plain": [
       "(0     2020-04-21\n",
       " 1     2020-04-22\n",
       " 2     2020-04-23\n",
       " 3     2020-04-24\n",
       " 4     2020-04-25\n",
       "          ...    \n",
       " 70    2020-06-30\n",
       " 71    2020-07-01\n",
       " 72    2020-07-02\n",
       " 73    2020-07-03\n",
       " 74    2020-07-04\n",
       " Name: Date, Length: 75, dtype: object,\n",
       " 0      1\n",
       " 1      2\n",
       " 2      3\n",
       " 3      4\n",
       " 4      5\n",
       "       ..\n",
       " 70    71\n",
       " 71    72\n",
       " 72    73\n",
       " 73    74\n",
       " 74    75\n",
       " Name: timeStep, Length: 75, dtype: int64,\n",
       " array([75, 76, 77, 78, 79, 80, 81, 82, 83, 84, 85, 86, 87, 88, 89]),\n",
       " 0      21\n",
       " 1      21\n",
       " 2      21\n",
       " 3      24\n",
       " 4      24\n",
       "      ... \n",
       " 70    188\n",
       " 71    208\n",
       " 72    218\n",
       " 73    226\n",
       " 74    226\n",
       " Name: Confirmed, Length: 75, dtype: int64,\n",
       " 0      27.223977\n",
       " 1      27.974246\n",
       " 2      28.745191\n",
       " 3      29.537382\n",
       " 4      30.351405\n",
       "          ...    \n",
       " 70    182.562527\n",
       " 71    187.593485\n",
       " 72    192.763072\n",
       " 73    198.075110\n",
       " 74    203.533521\n",
       " Name: timeStep, Length: 75, dtype: float64,\n",
       " array([203.53352139, 209.14234019, 214.90570993, 220.82788856,\n",
       "        226.91325129, 233.16629384, 239.59163573, 246.19402372,\n",
       "        252.97833527, 259.94958218, 267.11291424, 274.47362308,\n",
       "        282.03714602, 289.80907012, 297.79513628]))"
      ]
     },
     "execution_count": 87,
     "metadata": {},
     "output_type": "execute_result"
    }
   ],
   "source": [
    "import numpy as np\n",
    "import matplotlib.pyplot as plt\n",
    "import scipy.optimize as optim\n",
    "Predict_logistic_growth(get_districtWise(\"Bagalkote\"))"
   ]
  },
  {
   "cell_type": "code",
   "execution_count": null,
   "metadata": {},
   "outputs": [],
   "source": []
  }
 ],
 "metadata": {
  "kernelspec": {
   "display_name": "Python 3",
   "language": "python",
   "name": "python3"
  },
  "language_info": {
   "codemirror_mode": {
    "name": "ipython",
    "version": 3
   },
   "file_extension": ".py",
   "mimetype": "text/x-python",
   "name": "python",
   "nbconvert_exporter": "python",
   "pygments_lexer": "ipython3",
   "version": "3.8.2"
  }
 },
 "nbformat": 4,
 "nbformat_minor": 4
}
